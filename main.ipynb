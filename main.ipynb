{
 "cells": [
  {
   "cell_type": "code",
   "execution_count": 27,
   "metadata": {},
   "outputs": [],
   "source": [
    "import requests\n",
    "import pandas as pd"
   ]
  },
  {
   "cell_type": "code",
   "execution_count": 36,
   "metadata": {},
   "outputs": [
    {
     "data": {
      "text/html": [
       "<div>\n",
       "<style scoped>\n",
       "    .dataframe tbody tr th:only-of-type {\n",
       "        vertical-align: middle;\n",
       "    }\n",
       "\n",
       "    .dataframe tbody tr th {\n",
       "        vertical-align: top;\n",
       "    }\n",
       "\n",
       "    .dataframe thead th {\n",
       "        text-align: right;\n",
       "    }\n",
       "</style>\n",
       "<table border=\"1\" class=\"dataframe\">\n",
       "  <thead>\n",
       "    <tr style=\"text-align: right;\">\n",
       "      <th></th>\n",
       "      <th>alpha_two_code</th>\n",
       "      <th>domains</th>\n",
       "      <th>country</th>\n",
       "      <th>state-province</th>\n",
       "      <th>web_pages</th>\n",
       "    </tr>\n",
       "  </thead>\n",
       "  <tbody>\n",
       "    <tr>\n",
       "      <th>0</th>\n",
       "      <td>US</td>\n",
       "      <td>[marywood.edu]</td>\n",
       "      <td>United States</td>\n",
       "      <td>None</td>\n",
       "      <td>[http://www.marywood.edu]</td>\n",
       "    </tr>\n",
       "    <tr>\n",
       "      <th>1</th>\n",
       "      <td>US</td>\n",
       "      <td>[lindenwood.edu]</td>\n",
       "      <td>United States</td>\n",
       "      <td>None</td>\n",
       "      <td>[http://www.lindenwood.edu/]</td>\n",
       "    </tr>\n",
       "    <tr>\n",
       "      <th>2</th>\n",
       "      <td>US</td>\n",
       "      <td>[sullivan.edu]</td>\n",
       "      <td>United States</td>\n",
       "      <td>None</td>\n",
       "      <td>[https://sullivan.edu/]</td>\n",
       "    </tr>\n",
       "    <tr>\n",
       "      <th>3</th>\n",
       "      <td>US</td>\n",
       "      <td>[fscj.edu]</td>\n",
       "      <td>United States</td>\n",
       "      <td>None</td>\n",
       "      <td>[https://www.fscj.edu/]</td>\n",
       "    </tr>\n",
       "    <tr>\n",
       "      <th>4</th>\n",
       "      <td>US</td>\n",
       "      <td>[xavier.edu]</td>\n",
       "      <td>United States</td>\n",
       "      <td>None</td>\n",
       "      <td>[https://www.xavier.edu/]</td>\n",
       "    </tr>\n",
       "  </tbody>\n",
       "</table>\n",
       "</div>"
      ],
      "text/plain": [
       "  alpha_two_code           domains        country state-province  \\\n",
       "0             US    [marywood.edu]  United States           None   \n",
       "1             US  [lindenwood.edu]  United States           None   \n",
       "2             US    [sullivan.edu]  United States           None   \n",
       "3             US        [fscj.edu]  United States           None   \n",
       "4             US      [xavier.edu]  United States           None   \n",
       "\n",
       "                      web_pages  \n",
       "0     [http://www.marywood.edu]  \n",
       "1  [http://www.lindenwood.edu/]  \n",
       "2       [https://sullivan.edu/]  \n",
       "3       [https://www.fscj.edu/]  \n",
       "4     [https://www.xavier.edu/]  "
      ]
     },
     "execution_count": 36,
     "metadata": {},
     "output_type": "execute_result"
    }
   ],
   "source": [
    "r = requests.get('http://universities.hipolabs.com/search?country=United+States')\n",
    "data=r.json()\n",
    "df=pd.DataFrame(data, columns=['alpha_two_code', 'domains', 'country', 'state-province', 'web_pages'])\n",
    "df.head()"
   ]
  }
 ],
 "metadata": {
  "interpreter": {
   "hash": "4dca1c0300a89b829f36026629adb7d95eb5af78b283b8f31302cd6e3eda0c03"
  },
  "kernelspec": {
   "display_name": "Python 3.10.1 64-bit",
   "language": "python",
   "name": "python3"
  },
  "language_info": {
   "codemirror_mode": {
    "name": "ipython",
    "version": 3
   },
   "file_extension": ".py",
   "mimetype": "text/x-python",
   "name": "python",
   "nbconvert_exporter": "python",
   "pygments_lexer": "ipython3",
   "version": "3.10.1"
  },
  "orig_nbformat": 4
 },
 "nbformat": 4,
 "nbformat_minor": 2
}
